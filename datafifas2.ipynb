{
 "cells": [
  {
   "cell_type": "code",
   "execution_count": 1,
   "id": "2db1ef6e-e4a4-4f47-8f53-0451a7cb9730",
   "metadata": {
    "tags": []
   },
   "outputs": [],
   "source": [
    "import pandas as pd"
   ]
  },
  {
   "cell_type": "code",
   "execution_count": 2,
   "id": "5ecb78b4-debe-443f-a61c-69405c039669",
   "metadata": {
    "tags": []
   },
   "outputs": [],
   "source": [
    "dados = pd.read_csv('fifa.csv')"
   ]
  },
  {
   "cell_type": "code",
   "execution_count": null,
   "id": "002bea97-0e17-45be-819a-842f74739a0f",
   "metadata": {
    "tags": []
   },
   "outputs": [],
   "source": [
    "#total é adiçao de uma coluna, é a soma da aceleracao, agilidade e reaçoes\n",
    "dados['Total'] = dados['Acceleration'] + dados['Agility'] + dados['Reactions']\n",
    "dados"
   ]
  },
  {
   "cell_type": "code",
   "execution_count": 4,
   "id": "e1aa73d6-5792-4443-8be2-332ef131eb9a",
   "metadata": {
    "tags": []
   },
   "outputs": [
    {
     "data": {
      "text/html": [
       "<div>\n",
       "<style scoped>\n",
       "    .dataframe tbody tr th:only-of-type {\n",
       "        vertical-align: middle;\n",
       "    }\n",
       "\n",
       "    .dataframe tbody tr th {\n",
       "        vertical-align: top;\n",
       "    }\n",
       "\n",
       "    .dataframe thead th {\n",
       "        text-align: right;\n",
       "    }\n",
       "</style>\n",
       "<table border=\"1\" class=\"dataframe\">\n",
       "  <thead>\n",
       "    <tr style=\"text-align: right;\">\n",
       "      <th></th>\n",
       "      <th>Name</th>\n",
       "      <th>Total</th>\n",
       "    </tr>\n",
       "  </thead>\n",
       "  <tbody>\n",
       "    <tr>\n",
       "      <th>17685</th>\n",
       "      <td>Lee Yunoh</td>\n",
       "      <td>71.0</td>\n",
       "    </tr>\n",
       "    <tr>\n",
       "      <th>18127</th>\n",
       "      <td>N. Stephan</td>\n",
       "      <td>74.0</td>\n",
       "    </tr>\n",
       "    <tr>\n",
       "      <th>18198</th>\n",
       "      <td>J. Livesey</td>\n",
       "      <td>76.0</td>\n",
       "    </tr>\n",
       "    <tr>\n",
       "      <th>17868</th>\n",
       "      <td>A. Czaplak</td>\n",
       "      <td>77.0</td>\n",
       "    </tr>\n",
       "    <tr>\n",
       "      <th>17807</th>\n",
       "      <td>J. Brendieck</td>\n",
       "      <td>77.0</td>\n",
       "    </tr>\n",
       "    <tr>\n",
       "      <th>...</th>\n",
       "      <td>...</td>\n",
       "      <td>...</td>\n",
       "    </tr>\n",
       "    <tr>\n",
       "      <th>13279</th>\n",
       "      <td>P. Mazzocchi</td>\n",
       "      <td>NaN</td>\n",
       "    </tr>\n",
       "    <tr>\n",
       "      <th>13280</th>\n",
       "      <td>Y. Ammour</td>\n",
       "      <td>NaN</td>\n",
       "    </tr>\n",
       "    <tr>\n",
       "      <th>13281</th>\n",
       "      <td>Jwa Joon Hyeop</td>\n",
       "      <td>NaN</td>\n",
       "    </tr>\n",
       "    <tr>\n",
       "      <th>13282</th>\n",
       "      <td>O. Marrufo</td>\n",
       "      <td>NaN</td>\n",
       "    </tr>\n",
       "    <tr>\n",
       "      <th>13283</th>\n",
       "      <td>Han Pengfei</td>\n",
       "      <td>NaN</td>\n",
       "    </tr>\n",
       "  </tbody>\n",
       "</table>\n",
       "<p>18207 rows × 2 columns</p>\n",
       "</div>"
      ],
      "text/plain": [
       "                 Name  Total\n",
       "17685       Lee Yunoh   71.0\n",
       "18127      N. Stephan   74.0\n",
       "18198      J. Livesey   76.0\n",
       "17868      A. Czaplak   77.0\n",
       "17807    J. Brendieck   77.0\n",
       "...               ...    ...\n",
       "13279    P. Mazzocchi    NaN\n",
       "13280       Y. Ammour    NaN\n",
       "13281  Jwa Joon Hyeop    NaN\n",
       "13282      O. Marrufo    NaN\n",
       "13283     Han Pengfei    NaN\n",
       "\n",
       "[18207 rows x 2 columns]"
      ]
     },
     "execution_count": 4,
     "metadata": {},
     "output_type": "execute_result"
    }
   ],
   "source": [
    "#filtrar as colunas que queremos dos dados acima\n",
    "dados = dados[['Name', 'Total']]\n",
    "dados.sort_values('Total')"
   ]
  },
  {
   "cell_type": "code",
   "execution_count": 7,
   "id": "776a1bcd-99c9-4ffa-8609-7e3941300715",
   "metadata": {
    "tags": []
   },
   "outputs": [],
   "source": [
    "dados.to_csv('dados1.csv')"
   ]
  },
  {
   "cell_type": "code",
   "execution_count": 9,
   "id": "72479ade-f56b-4733-a5f7-721a2b1be859",
   "metadata": {
    "tags": []
   },
   "outputs": [],
   "source": [
    "#para tirar o index da pagina\n",
    "dados.to_csv('dados1.csv', index=False)"
   ]
  },
  {
   "cell_type": "code",
   "execution_count": 12,
   "id": "fddb32c3-c650-4196-a7ea-8ec0ca7c2fb4",
   "metadata": {
    "tags": []
   },
   "outputs": [],
   "source": [
    "dados.to_excel('dados1.xlsx', index=False)"
   ]
  },
  {
   "cell_type": "code",
   "execution_count": 13,
   "id": "fcff90a8-fffc-48c7-be6e-1a6ee08f1cbd",
   "metadata": {
    "tags": []
   },
   "outputs": [],
   "source": [
    "#mudar delimitador do txt\n",
    "dados.to_csv('dados1.txt', index=False, sep='\\t')"
   ]
  }
 ],
 "metadata": {
  "kernelspec": {
   "display_name": "Python 3 (ipykernel)",
   "language": "python",
   "name": "python3"
  },
  "language_info": {
   "codemirror_mode": {
    "name": "ipython",
    "version": 3
   },
   "file_extension": ".py",
   "mimetype": "text/x-python",
   "name": "python",
   "nbconvert_exporter": "python",
   "pygments_lexer": "ipython3",
   "version": "3.11.5"
  }
 },
 "nbformat": 4,
 "nbformat_minor": 5
}
